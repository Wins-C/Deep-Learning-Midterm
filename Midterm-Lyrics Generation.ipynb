{
 "cells": [
  {
   "cell_type": "code",
   "execution_count": 2,
   "id": "d4cd7882-caa6-4d51-ab30-341a1c59ade6",
   "metadata": {},
   "outputs": [],
   "source": [
    "import pandas as pd\n",
    "import numpy as np\n",
    "import re\n",
    "import tensorflow as tf\n",
    "from tensorflow.keras.preprocessing.text import Tokenizer\n",
    "from tensorflow.keras.preprocessing.sequence import pad_sequences\n",
    "from tensorflow.keras.models import Model\n",
    "from tensorflow.keras.layers import Input, Embedding, LSTM, Dense\n",
    "import matplotlib.pyplot as plt\n",
    "from sklearn.model_selection import train_test_split"
   ]
  },
  {
   "cell_type": "code",
   "execution_count": 6,
   "id": "ca1138af-ea5e-4162-ac72-7f81e67feaa4",
   "metadata": {},
   "outputs": [
    {
     "name": "stdout",
     "output_type": "stream",
     "text": [
      "Input Shape: (1345650, 5)\n",
      "Output Shape: (1345650,)\n"
     ]
    }
   ],
   "source": [
    "# Load dataset\n",
    "df = pd.read_csv(\"D:/23Fall/Forth semester/6260/HW/Midterm2/lyrics_dataset.csv\")\n",
    "\n",
    "# Function to clean text\n",
    "def clean_text(text):\n",
    "    text = text.lower()\n",
    "    text = re.sub(r'[^a-zA-Z0-9\\s\\']', '', text)  # Keep alphanumeric and apostrophes\n",
    "    text = re.sub(r'\\s+', ' ', text).strip()  # Remove extra spaces\n",
    "    return text\n",
    "\n",
    "# Apply cleaning\n",
    "df[\"lyrics\"] = df[\"lyrics\"].apply(clean_text)\n",
    "\n",
    "# Concatenate singer name with lyrics to condition model on the artist\n",
    "df[\"text\"] = df[\"singer\"] + \" \" + df[\"lyrics\"]\n",
    "\n",
    "vocab_size = 20000 \n",
    "tokenizer = Tokenizer(num_words=vocab_size, oov_token=\"<OOV>\")\n",
    "tokenizer.fit_on_texts(df[\"text\"])\n",
    "\n",
    "# Remove <OOV> from training text\n",
    "df[\"text\"] = df[\"text\"].apply(lambda x: \" \".join([word for word in x.split() if word != \"<OOV>\"]))\n",
    "\n",
    "# Convert text to sequences\n",
    "sequences = tokenizer.texts_to_sequences(df[\"text\"])\n",
    "\n",
    "# Define sequence length\n",
    "sequence_length = 5  # Shorter sequence length for memory efficiency\n",
    "\n",
    "# Prepare input-output sequences\n",
    "input_sequences = []\n",
    "output_words = []\n",
    "\n",
    "for seq in sequences:\n",
    "    for i in range(len(seq) - sequence_length):\n",
    "        input_sequences.append(seq[i:i + sequence_length])\n",
    "        output_words.append(seq[i + sequence_length])  # No one-hot encoding\n",
    "\n",
    "# Convert to numpy arrays\n",
    "input_sequences = np.array(input_sequences)\n",
    "output_words = np.array(output_words)\n",
    "\n",
    "# Check dataset shape\n",
    "print(\"Input Shape:\", input_sequences.shape)\n",
    "print(\"Output Shape:\", output_words.shape)\n",
    "\n",
    "# Train-Test Split (80% Train, 20% Test)\n",
    "input_train, input_test, output_train, output_test = train_test_split(\n",
    "    input_sequences, output_words, test_size=0.2, random_state=42)"
   ]
  },
  {
   "cell_type": "code",
   "execution_count": 8,
   "id": "3c10f05b-33fb-42b2-ad3f-f06ab6dd448a",
   "metadata": {},
   "outputs": [
    {
     "data": {
      "text/html": [
       "<pre style=\"white-space:pre;overflow-x:auto;line-height:normal;font-family:Menlo,'DejaVu Sans Mono',consolas,'Courier New',monospace\"><span style=\"font-weight: bold\">Model: \"functional\"</span>\n",
       "</pre>\n"
      ],
      "text/plain": [
       "\u001b[1mModel: \"functional\"\u001b[0m\n"
      ]
     },
     "metadata": {},
     "output_type": "display_data"
    },
    {
     "data": {
      "text/html": [
       "<pre style=\"white-space:pre;overflow-x:auto;line-height:normal;font-family:Menlo,'DejaVu Sans Mono',consolas,'Courier New',monospace\">┏━━━━━━━━━━━━━━━━━━━━━━━━━━━━━━━━━┳━━━━━━━━━━━━━━━━━━━━━━━━┳━━━━━━━━━━━━━━━┓\n",
       "┃<span style=\"font-weight: bold\"> Layer (type)                    </span>┃<span style=\"font-weight: bold\"> Output Shape           </span>┃<span style=\"font-weight: bold\">       Param # </span>┃\n",
       "┡━━━━━━━━━━━━━━━━━━━━━━━━━━━━━━━━━╇━━━━━━━━━━━━━━━━━━━━━━━━╇━━━━━━━━━━━━━━━┩\n",
       "│ input_layer (<span style=\"color: #0087ff; text-decoration-color: #0087ff\">InputLayer</span>)        │ (<span style=\"color: #00d7ff; text-decoration-color: #00d7ff\">None</span>, <span style=\"color: #00af00; text-decoration-color: #00af00\">5</span>)              │             <span style=\"color: #00af00; text-decoration-color: #00af00\">0</span> │\n",
       "├─────────────────────────────────┼────────────────────────┼───────────────┤\n",
       "│ embedding (<span style=\"color: #0087ff; text-decoration-color: #0087ff\">Embedding</span>)           │ (<span style=\"color: #00d7ff; text-decoration-color: #00d7ff\">None</span>, <span style=\"color: #00af00; text-decoration-color: #00af00\">5</span>, <span style=\"color: #00af00; text-decoration-color: #00af00\">100</span>)         │     <span style=\"color: #00af00; text-decoration-color: #00af00\">2,000,000</span> │\n",
       "├─────────────────────────────────┼────────────────────────┼───────────────┤\n",
       "│ lstm (<span style=\"color: #0087ff; text-decoration-color: #0087ff\">LSTM</span>)                     │ (<span style=\"color: #00d7ff; text-decoration-color: #00d7ff\">None</span>, <span style=\"color: #00af00; text-decoration-color: #00af00\">5</span>, <span style=\"color: #00af00; text-decoration-color: #00af00\">128</span>)         │       <span style=\"color: #00af00; text-decoration-color: #00af00\">117,248</span> │\n",
       "├─────────────────────────────────┼────────────────────────┼───────────────┤\n",
       "│ lstm_1 (<span style=\"color: #0087ff; text-decoration-color: #0087ff\">LSTM</span>)                   │ (<span style=\"color: #00d7ff; text-decoration-color: #00d7ff\">None</span>, <span style=\"color: #00af00; text-decoration-color: #00af00\">128</span>)            │       <span style=\"color: #00af00; text-decoration-color: #00af00\">131,584</span> │\n",
       "├─────────────────────────────────┼────────────────────────┼───────────────┤\n",
       "│ dense (<span style=\"color: #0087ff; text-decoration-color: #0087ff\">Dense</span>)                   │ (<span style=\"color: #00d7ff; text-decoration-color: #00d7ff\">None</span>, <span style=\"color: #00af00; text-decoration-color: #00af00\">128</span>)            │        <span style=\"color: #00af00; text-decoration-color: #00af00\">16,512</span> │\n",
       "├─────────────────────────────────┼────────────────────────┼───────────────┤\n",
       "│ dense_1 (<span style=\"color: #0087ff; text-decoration-color: #0087ff\">Dense</span>)                 │ (<span style=\"color: #00d7ff; text-decoration-color: #00d7ff\">None</span>, <span style=\"color: #00af00; text-decoration-color: #00af00\">20000</span>)          │     <span style=\"color: #00af00; text-decoration-color: #00af00\">2,580,000</span> │\n",
       "└─────────────────────────────────┴────────────────────────┴───────────────┘\n",
       "</pre>\n"
      ],
      "text/plain": [
       "┏━━━━━━━━━━━━━━━━━━━━━━━━━━━━━━━━━┳━━━━━━━━━━━━━━━━━━━━━━━━┳━━━━━━━━━━━━━━━┓\n",
       "┃\u001b[1m \u001b[0m\u001b[1mLayer (type)                   \u001b[0m\u001b[1m \u001b[0m┃\u001b[1m \u001b[0m\u001b[1mOutput Shape          \u001b[0m\u001b[1m \u001b[0m┃\u001b[1m \u001b[0m\u001b[1m      Param #\u001b[0m\u001b[1m \u001b[0m┃\n",
       "┡━━━━━━━━━━━━━━━━━━━━━━━━━━━━━━━━━╇━━━━━━━━━━━━━━━━━━━━━━━━╇━━━━━━━━━━━━━━━┩\n",
       "│ input_layer (\u001b[38;5;33mInputLayer\u001b[0m)        │ (\u001b[38;5;45mNone\u001b[0m, \u001b[38;5;34m5\u001b[0m)              │             \u001b[38;5;34m0\u001b[0m │\n",
       "├─────────────────────────────────┼────────────────────────┼───────────────┤\n",
       "│ embedding (\u001b[38;5;33mEmbedding\u001b[0m)           │ (\u001b[38;5;45mNone\u001b[0m, \u001b[38;5;34m5\u001b[0m, \u001b[38;5;34m100\u001b[0m)         │     \u001b[38;5;34m2,000,000\u001b[0m │\n",
       "├─────────────────────────────────┼────────────────────────┼───────────────┤\n",
       "│ lstm (\u001b[38;5;33mLSTM\u001b[0m)                     │ (\u001b[38;5;45mNone\u001b[0m, \u001b[38;5;34m5\u001b[0m, \u001b[38;5;34m128\u001b[0m)         │       \u001b[38;5;34m117,248\u001b[0m │\n",
       "├─────────────────────────────────┼────────────────────────┼───────────────┤\n",
       "│ lstm_1 (\u001b[38;5;33mLSTM\u001b[0m)                   │ (\u001b[38;5;45mNone\u001b[0m, \u001b[38;5;34m128\u001b[0m)            │       \u001b[38;5;34m131,584\u001b[0m │\n",
       "├─────────────────────────────────┼────────────────────────┼───────────────┤\n",
       "│ dense (\u001b[38;5;33mDense\u001b[0m)                   │ (\u001b[38;5;45mNone\u001b[0m, \u001b[38;5;34m128\u001b[0m)            │        \u001b[38;5;34m16,512\u001b[0m │\n",
       "├─────────────────────────────────┼────────────────────────┼───────────────┤\n",
       "│ dense_1 (\u001b[38;5;33mDense\u001b[0m)                 │ (\u001b[38;5;45mNone\u001b[0m, \u001b[38;5;34m20000\u001b[0m)          │     \u001b[38;5;34m2,580,000\u001b[0m │\n",
       "└─────────────────────────────────┴────────────────────────┴───────────────┘\n"
      ]
     },
     "metadata": {},
     "output_type": "display_data"
    },
    {
     "data": {
      "text/html": [
       "<pre style=\"white-space:pre;overflow-x:auto;line-height:normal;font-family:Menlo,'DejaVu Sans Mono',consolas,'Courier New',monospace\"><span style=\"font-weight: bold\"> Total params: </span><span style=\"color: #00af00; text-decoration-color: #00af00\">4,845,344</span> (18.48 MB)\n",
       "</pre>\n"
      ],
      "text/plain": [
       "\u001b[1m Total params: \u001b[0m\u001b[38;5;34m4,845,344\u001b[0m (18.48 MB)\n"
      ]
     },
     "metadata": {},
     "output_type": "display_data"
    },
    {
     "data": {
      "text/html": [
       "<pre style=\"white-space:pre;overflow-x:auto;line-height:normal;font-family:Menlo,'DejaVu Sans Mono',consolas,'Courier New',monospace\"><span style=\"font-weight: bold\"> Trainable params: </span><span style=\"color: #00af00; text-decoration-color: #00af00\">4,845,344</span> (18.48 MB)\n",
       "</pre>\n"
      ],
      "text/plain": [
       "\u001b[1m Trainable params: \u001b[0m\u001b[38;5;34m4,845,344\u001b[0m (18.48 MB)\n"
      ]
     },
     "metadata": {},
     "output_type": "display_data"
    },
    {
     "data": {
      "text/html": [
       "<pre style=\"white-space:pre;overflow-x:auto;line-height:normal;font-family:Menlo,'DejaVu Sans Mono',consolas,'Courier New',monospace\"><span style=\"font-weight: bold\"> Non-trainable params: </span><span style=\"color: #00af00; text-decoration-color: #00af00\">0</span> (0.00 B)\n",
       "</pre>\n"
      ],
      "text/plain": [
       "\u001b[1m Non-trainable params: \u001b[0m\u001b[38;5;34m0\u001b[0m (0.00 B)\n"
      ]
     },
     "metadata": {},
     "output_type": "display_data"
    }
   ],
   "source": [
    "# Define Input Layer with Explicit Shape\n",
    "input_layer = Input(shape=(5,))  # Matches sequence_length\n",
    "\n",
    "# Add Dropout to Prevent Overfitting\n",
    "x = Embedding(input_dim=vocab_size, output_dim=100)(input_layer)\n",
    "x = LSTM(128, return_sequences=True, dropout=0.2)(x)\n",
    "x = LSTM(128, dropout=0.2)(x)\n",
    "x = Dense(128, activation='relu')(x)\n",
    "output_layer = Dense(vocab_size, activation='softmax')(x)\n",
    "\n",
    "# Build Model\n",
    "model = Model(inputs=input_layer, outputs=output_layer)\n",
    "\n",
    "# Compile Model\n",
    "model.compile(loss=tf.keras.losses.SparseCategoricalCrossentropy(from_logits=True), optimizer='adam', metrics=['accuracy'])\n",
    "\n",
    "# Display Model Summary\n",
    "model.summary()"
   ]
  },
  {
   "cell_type": "code",
   "execution_count": 12,
   "id": "b99890b5-00b0-44b3-84bc-fb6a6680a26d",
   "metadata": {},
   "outputs": [
    {
     "name": "stdout",
     "output_type": "stream",
     "text": [
      "Epoch 1/50\n",
      "\u001b[1m8411/8411\u001b[0m \u001b[32m━━━━━━━━━━━━━━━━━━━━\u001b[0m\u001b[37m\u001b[0m \u001b[1m0s\u001b[0m 82ms/step - accuracy: 0.0862 - loss: 5.9660"
     ]
    },
    {
     "name": "stderr",
     "output_type": "stream",
     "text": [
      "D:\\Anaconda3\\Lib\\site-packages\\keras\\src\\backend\\tensorflow\\nn.py:708: UserWarning: \"`sparse_categorical_crossentropy` received `from_logits=True`, but the `output` argument was produced by a Softmax activation and thus does not represent logits. Was this intended?\n",
      "  output, from_logits = _get_logits(\n"
     ]
    },
    {
     "name": "stdout",
     "output_type": "stream",
     "text": [
      "\u001b[1m8411/8411\u001b[0m \u001b[32m━━━━━━━━━━━━━━━━━━━━\u001b[0m\u001b[37m\u001b[0m \u001b[1m747s\u001b[0m 89ms/step - accuracy: 0.0862 - loss: 5.9659 - val_accuracy: 0.1186 - val_loss: 5.6076\n",
      "Epoch 2/50\n",
      "\u001b[1m8411/8411\u001b[0m \u001b[32m━━━━━━━━━━━━━━━━━━━━\u001b[0m\u001b[37m\u001b[0m \u001b[1m837s\u001b[0m 99ms/step - accuracy: 0.1245 - loss: 5.4342 - val_accuracy: 0.1372 - val_loss: 5.4166\n",
      "Epoch 3/50\n",
      "\u001b[1m8411/8411\u001b[0m \u001b[32m━━━━━━━━━━━━━━━━━━━━\u001b[0m\u001b[37m\u001b[0m \u001b[1m770s\u001b[0m 92ms/step - accuracy: 0.1421 - loss: 5.1637 - val_accuracy: 0.1482 - val_loss: 5.3219\n",
      "Epoch 4/50\n",
      "\u001b[1m8411/8411\u001b[0m \u001b[32m━━━━━━━━━━━━━━━━━━━━\u001b[0m\u001b[37m\u001b[0m \u001b[1m840s\u001b[0m 100ms/step - accuracy: 0.1538 - loss: 4.9880 - val_accuracy: 0.1562 - val_loss: 5.2654\n",
      "Epoch 5/50\n",
      "\u001b[1m8411/8411\u001b[0m \u001b[32m━━━━━━━━━━━━━━━━━━━━\u001b[0m\u001b[37m\u001b[0m \u001b[1m830s\u001b[0m 99ms/step - accuracy: 0.1615 - loss: 4.8693 - val_accuracy: 0.1629 - val_loss: 5.2339\n",
      "Epoch 6/50\n",
      "\u001b[1m8411/8411\u001b[0m \u001b[32m━━━━━━━━━━━━━━━━━━━━\u001b[0m\u001b[37m\u001b[0m \u001b[1m825s\u001b[0m 98ms/step - accuracy: 0.1682 - loss: 4.7784 - val_accuracy: 0.1690 - val_loss: 5.2067\n",
      "Epoch 7/50\n",
      "\u001b[1m8411/8411\u001b[0m \u001b[32m━━━━━━━━━━━━━━━━━━━━\u001b[0m\u001b[37m\u001b[0m \u001b[1m803s\u001b[0m 96ms/step - accuracy: 0.1743 - loss: 4.7037 - val_accuracy: 0.1729 - val_loss: 5.1903\n",
      "Epoch 8/50\n",
      "\u001b[1m8411/8411\u001b[0m \u001b[32m━━━━━━━━━━━━━━━━━━━━\u001b[0m\u001b[37m\u001b[0m \u001b[1m820s\u001b[0m 97ms/step - accuracy: 0.1794 - loss: 4.6446 - val_accuracy: 0.1768 - val_loss: 5.1810\n",
      "Epoch 9/50\n",
      "\u001b[1m8411/8411\u001b[0m \u001b[32m━━━━━━━━━━━━━━━━━━━━\u001b[0m\u001b[37m\u001b[0m \u001b[1m811s\u001b[0m 96ms/step - accuracy: 0.1835 - loss: 4.5966 - val_accuracy: 0.1808 - val_loss: 5.1576\n",
      "Epoch 10/50\n",
      "\u001b[1m8411/8411\u001b[0m \u001b[32m━━━━━━━━━━━━━━━━━━━━\u001b[0m\u001b[37m\u001b[0m \u001b[1m848s\u001b[0m 101ms/step - accuracy: 0.1864 - loss: 4.5589 - val_accuracy: 0.1831 - val_loss: 5.1606\n",
      "Epoch 11/50\n",
      "\u001b[1m8411/8411\u001b[0m \u001b[32m━━━━━━━━━━━━━━━━━━━━\u001b[0m\u001b[37m\u001b[0m \u001b[1m809s\u001b[0m 96ms/step - accuracy: 0.1898 - loss: 4.5249 - val_accuracy: 0.1851 - val_loss: 5.1741\n",
      "Epoch 12/50\n",
      "\u001b[1m8411/8411\u001b[0m \u001b[32m━━━━━━━━━━━━━━━━━━━━\u001b[0m\u001b[37m\u001b[0m \u001b[1m807s\u001b[0m 96ms/step - accuracy: 0.1929 - loss: 4.4943 - val_accuracy: 0.1873 - val_loss: 5.1538\n",
      "Epoch 13/50\n",
      "\u001b[1m8411/8411\u001b[0m \u001b[32m━━━━━━━━━━━━━━━━━━━━\u001b[0m\u001b[37m\u001b[0m \u001b[1m807s\u001b[0m 96ms/step - accuracy: 0.1956 - loss: 4.4683 - val_accuracy: 0.1906 - val_loss: 5.1571\n",
      "Epoch 14/50\n",
      "\u001b[1m8411/8411\u001b[0m \u001b[32m━━━━━━━━━━━━━━━━━━━━\u001b[0m\u001b[37m\u001b[0m \u001b[1m813s\u001b[0m 97ms/step - accuracy: 0.1982 - loss: 4.4466 - val_accuracy: 0.1901 - val_loss: 5.1398\n",
      "Epoch 15/50\n",
      "\u001b[1m8411/8411\u001b[0m \u001b[32m━━━━━━━━━━━━━━━━━━━━\u001b[0m\u001b[37m\u001b[0m \u001b[1m804s\u001b[0m 96ms/step - accuracy: 0.1994 - loss: 4.4324 - val_accuracy: 0.1927 - val_loss: 5.1685\n",
      "Epoch 16/50\n",
      "\u001b[1m8411/8411\u001b[0m \u001b[32m━━━━━━━━━━━━━━━━━━━━\u001b[0m\u001b[37m\u001b[0m \u001b[1m22940s\u001b[0m 3s/step - accuracy: 0.2010 - loss: 4.4186 - val_accuracy: 0.1938 - val_loss: 5.1497\n",
      "Epoch 17/50\n",
      "\u001b[1m8411/8411\u001b[0m \u001b[32m━━━━━━━━━━━━━━━━━━━━\u001b[0m\u001b[37m\u001b[0m \u001b[1m734s\u001b[0m 87ms/step - accuracy: 0.2024 - loss: 4.3995 - val_accuracy: 0.1949 - val_loss: 5.1323\n",
      "Epoch 18/50\n",
      "\u001b[1m8411/8411\u001b[0m \u001b[32m━━━━━━━━━━━━━━━━━━━━\u001b[0m\u001b[37m\u001b[0m \u001b[1m765s\u001b[0m 91ms/step - accuracy: 0.2038 - loss: 4.3857 - val_accuracy: 0.1965 - val_loss: 5.1477\n",
      "Epoch 19/50\n",
      "\u001b[1m8411/8411\u001b[0m \u001b[32m━━━━━━━━━━━━━━━━━━━━\u001b[0m\u001b[37m\u001b[0m \u001b[1m758s\u001b[0m 90ms/step - accuracy: 0.2057 - loss: 4.3759 - val_accuracy: 0.1972 - val_loss: 5.1229\n",
      "Epoch 20/50\n",
      "\u001b[1m8411/8411\u001b[0m \u001b[32m━━━━━━━━━━━━━━━━━━━━\u001b[0m\u001b[37m\u001b[0m \u001b[1m753s\u001b[0m 90ms/step - accuracy: 0.2065 - loss: 4.3626 - val_accuracy: 0.1993 - val_loss: 5.1224\n",
      "Epoch 21/50\n",
      "\u001b[1m8411/8411\u001b[0m \u001b[32m━━━━━━━━━━━━━━━━━━━━\u001b[0m\u001b[37m\u001b[0m \u001b[1m763s\u001b[0m 91ms/step - accuracy: 0.2084 - loss: 4.3492 - val_accuracy: 0.1987 - val_loss: 5.1236\n",
      "Epoch 22/50\n",
      "\u001b[1m8411/8411\u001b[0m \u001b[32m━━━━━━━━━━━━━━━━━━━━\u001b[0m\u001b[37m\u001b[0m \u001b[1m773s\u001b[0m 92ms/step - accuracy: 0.2090 - loss: 4.3369 - val_accuracy: 0.2001 - val_loss: 5.1351\n",
      "Epoch 23/50\n",
      "\u001b[1m8411/8411\u001b[0m \u001b[32m━━━━━━━━━━━━━━━━━━━━\u001b[0m\u001b[37m\u001b[0m \u001b[1m820s\u001b[0m 97ms/step - accuracy: 0.2097 - loss: 4.3310 - val_accuracy: 0.2008 - val_loss: 5.1185\n",
      "Epoch 24/50\n",
      "\u001b[1m8411/8411\u001b[0m \u001b[32m━━━━━━━━━━━━━━━━━━━━\u001b[0m\u001b[37m\u001b[0m \u001b[1m760s\u001b[0m 90ms/step - accuracy: 0.2104 - loss: 4.3270 - val_accuracy: 0.2025 - val_loss: 5.1173\n",
      "Epoch 25/50\n",
      "\u001b[1m8411/8411\u001b[0m \u001b[32m━━━━━━━━━━━━━━━━━━━━\u001b[0m\u001b[37m\u001b[0m \u001b[1m758s\u001b[0m 90ms/step - accuracy: 0.2124 - loss: 4.3111 - val_accuracy: 0.2024 - val_loss: 5.1173\n",
      "Epoch 26/50\n",
      "\u001b[1m8411/8411\u001b[0m \u001b[32m━━━━━━━━━━━━━━━━━━━━\u001b[0m\u001b[37m\u001b[0m \u001b[1m772s\u001b[0m 92ms/step - accuracy: 0.2128 - loss: 4.3060 - val_accuracy: 0.2035 - val_loss: 5.1033\n",
      "Epoch 27/50\n",
      "\u001b[1m8411/8411\u001b[0m \u001b[32m━━━━━━━━━━━━━━━━━━━━\u001b[0m\u001b[37m\u001b[0m \u001b[1m761s\u001b[0m 90ms/step - accuracy: 0.2133 - loss: 4.3038 - val_accuracy: 0.2040 - val_loss: 5.1277\n",
      "Epoch 28/50\n",
      "\u001b[1m8411/8411\u001b[0m \u001b[32m━━━━━━━━━━━━━━━━━━━━\u001b[0m\u001b[37m\u001b[0m \u001b[1m761s\u001b[0m 90ms/step - accuracy: 0.2148 - loss: 4.2900 - val_accuracy: 0.2039 - val_loss: 5.0977\n",
      "Epoch 29/50\n",
      "\u001b[1m8411/8411\u001b[0m \u001b[32m━━━━━━━━━━━━━━━━━━━━\u001b[0m\u001b[37m\u001b[0m \u001b[1m759s\u001b[0m 90ms/step - accuracy: 0.2155 - loss: 4.2880 - val_accuracy: 0.2049 - val_loss: 5.1225\n",
      "Epoch 30/50\n",
      "\u001b[1m8411/8411\u001b[0m \u001b[32m━━━━━━━━━━━━━━━━━━━━\u001b[0m\u001b[37m\u001b[0m \u001b[1m757s\u001b[0m 90ms/step - accuracy: 0.2166 - loss: 4.2745 - val_accuracy: 0.2061 - val_loss: 5.0994\n",
      "Epoch 31/50\n",
      "\u001b[1m8411/8411\u001b[0m \u001b[32m━━━━━━━━━━━━━━━━━━━━\u001b[0m\u001b[37m\u001b[0m \u001b[1m767s\u001b[0m 91ms/step - accuracy: 0.2174 - loss: 4.2738 - val_accuracy: 0.2064 - val_loss: 5.1175\n",
      "Epoch 32/50\n",
      "\u001b[1m8411/8411\u001b[0m \u001b[32m━━━━━━━━━━━━━━━━━━━━\u001b[0m\u001b[37m\u001b[0m \u001b[1m762s\u001b[0m 91ms/step - accuracy: 0.2177 - loss: 4.2661 - val_accuracy: 0.2072 - val_loss: 5.0972\n",
      "Epoch 33/50\n",
      "\u001b[1m8411/8411\u001b[0m \u001b[32m━━━━━━━━━━━━━━━━━━━━\u001b[0m\u001b[37m\u001b[0m \u001b[1m764s\u001b[0m 91ms/step - accuracy: 0.2181 - loss: 4.2645 - val_accuracy: 0.2078 - val_loss: 5.0984\n",
      "Epoch 34/50\n",
      "\u001b[1m8411/8411\u001b[0m \u001b[32m━━━━━━━━━━━━━━━━━━━━\u001b[0m\u001b[37m\u001b[0m \u001b[1m765s\u001b[0m 91ms/step - accuracy: 0.2189 - loss: 4.2595 - val_accuracy: 0.2085 - val_loss: 5.1188\n",
      "Epoch 35/50\n",
      "\u001b[1m8411/8411\u001b[0m \u001b[32m━━━━━━━━━━━━━━━━━━━━\u001b[0m\u001b[37m\u001b[0m \u001b[1m768s\u001b[0m 91ms/step - accuracy: 0.2195 - loss: 4.2532 - val_accuracy: 0.2086 - val_loss: 5.0861\n",
      "Epoch 36/50\n",
      "\u001b[1m8411/8411\u001b[0m \u001b[32m━━━━━━━━━━━━━━━━━━━━\u001b[0m\u001b[37m\u001b[0m \u001b[1m774s\u001b[0m 92ms/step - accuracy: 0.2198 - loss: 4.2494 - val_accuracy: 0.2090 - val_loss: 5.1013\n",
      "Epoch 37/50\n",
      "\u001b[1m8411/8411\u001b[0m \u001b[32m━━━━━━━━━━━━━━━━━━━━\u001b[0m\u001b[37m\u001b[0m \u001b[1m783s\u001b[0m 93ms/step - accuracy: 0.2206 - loss: 4.2421 - val_accuracy: 0.2092 - val_loss: 5.0949\n",
      "Epoch 38/50\n",
      "\u001b[1m8411/8411\u001b[0m \u001b[32m━━━━━━━━━━━━━━━━━━━━\u001b[0m\u001b[37m\u001b[0m \u001b[1m786s\u001b[0m 93ms/step - accuracy: 0.2214 - loss: 4.2384 - val_accuracy: 0.2095 - val_loss: 5.0683\n",
      "Epoch 39/50\n",
      "\u001b[1m8411/8411\u001b[0m \u001b[32m━━━━━━━━━━━━━━━━━━━━\u001b[0m\u001b[37m\u001b[0m \u001b[1m782s\u001b[0m 93ms/step - accuracy: 0.2218 - loss: 4.2316 - val_accuracy: 0.2108 - val_loss: 5.0939\n",
      "Epoch 40/50\n",
      "\u001b[1m8411/8411\u001b[0m \u001b[32m━━━━━━━━━━━━━━━━━━━━\u001b[0m\u001b[37m\u001b[0m \u001b[1m800s\u001b[0m 95ms/step - accuracy: 0.2223 - loss: 4.2319 - val_accuracy: 0.2103 - val_loss: 5.0789\n",
      "Epoch 41/50\n",
      "\u001b[1m8411/8411\u001b[0m \u001b[32m━━━━━━━━━━━━━━━━━━━━\u001b[0m\u001b[37m\u001b[0m \u001b[1m793s\u001b[0m 94ms/step - accuracy: 0.2226 - loss: 4.2288 - val_accuracy: 0.2107 - val_loss: 5.0870\n",
      "Epoch 42/50\n",
      "\u001b[1m8411/8411\u001b[0m \u001b[32m━━━━━━━━━━━━━━━━━━━━\u001b[0m\u001b[37m\u001b[0m \u001b[1m785s\u001b[0m 93ms/step - accuracy: 0.2224 - loss: 4.2260 - val_accuracy: 0.2110 - val_loss: 5.0860\n",
      "Epoch 43/50\n",
      "\u001b[1m8411/8411\u001b[0m \u001b[32m━━━━━━━━━━━━━━━━━━━━\u001b[0m\u001b[37m\u001b[0m \u001b[1m789s\u001b[0m 94ms/step - accuracy: 0.2240 - loss: 4.2184 - val_accuracy: 0.2114 - val_loss: 5.0776\n",
      "Epoch 44/50\n",
      "\u001b[1m8411/8411\u001b[0m \u001b[32m━━━━━━━━━━━━━━━━━━━━\u001b[0m\u001b[37m\u001b[0m \u001b[1m798s\u001b[0m 95ms/step - accuracy: 0.2241 - loss: 4.2130 - val_accuracy: 0.2116 - val_loss: 5.0978\n",
      "Epoch 45/50\n",
      "\u001b[1m8411/8411\u001b[0m \u001b[32m━━━━━━━━━━━━━━━━━━━━\u001b[0m\u001b[37m\u001b[0m \u001b[1m798s\u001b[0m 95ms/step - accuracy: 0.2248 - loss: 4.2120 - val_accuracy: 0.2125 - val_loss: 5.0934\n",
      "Epoch 46/50\n",
      "\u001b[1m8411/8411\u001b[0m \u001b[32m━━━━━━━━━━━━━━━━━━━━\u001b[0m\u001b[37m\u001b[0m \u001b[1m795s\u001b[0m 95ms/step - accuracy: 0.2244 - loss: 4.2110 - val_accuracy: 0.2120 - val_loss: 5.0650\n",
      "Epoch 47/50\n",
      "\u001b[1m8411/8411\u001b[0m \u001b[32m━━━━━━━━━━━━━━━━━━━━\u001b[0m\u001b[37m\u001b[0m \u001b[1m794s\u001b[0m 94ms/step - accuracy: 0.2251 - loss: 4.2091 - val_accuracy: 0.2132 - val_loss: 5.0769\n",
      "Epoch 48/50\n",
      "\u001b[1m8411/8411\u001b[0m \u001b[32m━━━━━━━━━━━━━━━━━━━━\u001b[0m\u001b[37m\u001b[0m \u001b[1m806s\u001b[0m 96ms/step - accuracy: 0.2260 - loss: 4.2001 - val_accuracy: 0.2129 - val_loss: 5.0715\n",
      "Epoch 49/50\n",
      "\u001b[1m8411/8411\u001b[0m \u001b[32m━━━━━━━━━━━━━━━━━━━━\u001b[0m\u001b[37m\u001b[0m \u001b[1m821s\u001b[0m 98ms/step - accuracy: 0.2258 - loss: 4.2013 - val_accuracy: 0.2134 - val_loss: 5.0573\n",
      "Epoch 50/50\n",
      "\u001b[1m8411/8411\u001b[0m \u001b[32m━━━━━━━━━━━━━━━━━━━━\u001b[0m\u001b[37m\u001b[0m \u001b[1m814s\u001b[0m 97ms/step - accuracy: 0.2273 - loss: 4.1948 - val_accuracy: 0.2149 - val_loss: 5.0947\n"
     ]
    }
   ],
   "source": [
    "# Train Model Using Training and Validation Data**\n",
    "history = model.fit(input_train, output_train, \n",
    "                    epochs=50, \n",
    "                    batch_size=128, \n",
    "                    validation_data=(input_test, output_test))"
   ]
  },
  {
   "cell_type": "code",
   "execution_count": 14,
   "id": "9a4b574c-161d-402d-854b-d97c830bd88c",
   "metadata": {},
   "outputs": [
    {
     "data": {
      "image/png": "[encoded data removed]",
      "text/plain": [
       "<Figure size 640x480 with 1 Axes>"
      ]
     },
     "metadata": {},
     "output_type": "display_data"
    }
   ],
   "source": [
    "#  Plot Training & Validation Accuracy**\n",
    "plt.plot(history.history['accuracy'], label='Training Accuracy', linestyle='-', marker='o')\n",
    "plt.plot(history.history['val_accuracy'], label='Validation Accuracy', linestyle='--', marker='s')\n",
    "\n",
    "# Labels and title\n",
    "plt.xlabel('Epochs')\n",
    "plt.ylabel('Accuracy')\n",
    "plt.title('Training vs Validation Accuracy')\n",
    "plt.legend()\n",
    "plt.grid(True)\n",
    "plt.show()"
   ]
  },
  {
   "cell_type": "code",
   "execution_count": 18,
   "id": "128752f0-5f32-4084-842f-8e8c8f216151",
   "metadata": {},
   "outputs": [
    {
     "name": "stdout",
     "output_type": "stream",
     "text": [
      "adele love is near the way the first cat i don't know which album hakuna matata is bigger than out of her instant protected blue oh i got plenty more back at make sense i know that i felt you love you pyt and you know you love it i'm too young it's\n"
     ]
    }
   ],
   "source": [
    "def generate_lyrics_with_temperature(seed_text, model, tokenizer, num_words=50, temperature=1.0):\n",
    "    sequence_length = 5\n",
    "    result = seed_text\n",
    "\n",
    "    for _ in range(num_words):\n",
    "        token_list = tokenizer.texts_to_sequences([seed_text])[0]\n",
    "        token_list = pad_sequences([token_list], maxlen=sequence_length, padding='pre')\n",
    "        predictions = model.predict(token_list, verbose=0)[0]\n",
    "\n",
    "        # Apply temperature\n",
    "        predictions = np.log(predictions + 1e-7) / temperature\n",
    "        predictions = np.exp(predictions)\n",
    "        predictions /= np.sum(predictions)\n",
    "\n",
    "        predicted = np.random.choice(len(predictions), p=predictions)\n",
    "\n",
    "        # Map prediction to word\n",
    "        output_word = tokenizer.index_word.get(predicted, \"\")\n",
    "        if output_word == \"<OOV>\" or output_word == \"\":\n",
    "            continue\n",
    "\n",
    "        result += \" \" + output_word\n",
    "        seed_text += \" \" + output_word\n",
    "\n",
    "    return result\n",
    "\n",
    "# Try it with more creativity\n",
    "print(generate_lyrics_with_temperature(\"adele love is\", model, tokenizer, temperature=0.8))\n"
   ]
  },
  {
   "cell_type": "code",
   "execution_count": null,
   "id": "daf9a867-66d9-4f9b-a36a-f936fee8bcbf",
   "metadata": {},
   "outputs": [],
   "source": []
  }
 ],
 "metadata": {
  "kernelspec": {
   "display_name": "Python [conda env:base] *",
   "language": "python",
   "name": "conda-base-py"
  },
  "language_info": {
   "codemirror_mode": {
    "name": "ipython",
    "version": 3
   },
   "file_extension": ".py",
   "mimetype": "text/x-python",
   "name": "python",
   "nbconvert_exporter": "python",
   "pygments_lexer": "ipython3",
   "version": "3.12.7"
  }
 },
 "nbformat": 4,
 "nbformat_minor": 5
}
